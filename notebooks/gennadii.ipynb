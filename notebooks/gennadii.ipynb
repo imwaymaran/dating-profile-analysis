{
 "cells": [
  {
   "cell_type": "code",
   "execution_count": 7,
   "id": "d407eab0",
   "metadata": {},
   "outputs": [],
   "source": [
    "import pandas as pd"
   ]
  },
  {
   "cell_type": "code",
   "execution_count": 11,
   "id": "cf3e1888",
   "metadata": {},
   "outputs": [],
   "source": [
    "df1 = pd.read_csv('../data/lovoo_v3_users_api-results.csv')\n",
    "df2 = pd.read_csv('../data/lovoo_v3_users_instances.csv')\n"
   ]
  },
  {
   "cell_type": "code",
   "execution_count": 21,
   "id": "1b8e74c8",
   "metadata": {},
   "outputs": [
    {
     "data": {
      "text/plain": [
       "Index(['gender', 'genderLooking', 'age', 'name', 'counts_details',\n",
       "       'counts_pictures', 'counts_profileVisits', 'counts_kisses',\n",
       "       'counts_fans', 'counts_g', 'flirtInterests_chat',\n",
       "       'flirtInterests_friends', 'flirtInterests_date', 'country', 'city',\n",
       "       'location', 'distance', 'isFlirtstar', 'isHighlighted', 'isInfluencer',\n",
       "       'isMobile', 'isNew', 'isOnline', 'isVip', 'lang_count', 'lang_fr',\n",
       "       'lang_en', 'lang_de', 'lang_it', 'lang_es', 'lang_pt', 'verified',\n",
       "       'shareProfileEnabled', 'lastOnlineDate', 'lastOnlineTime', 'birthd',\n",
       "       'crypt', 'freetext', 'whazzup', 'userId', 'pictureId',\n",
       "       'isSystemProfile'],\n",
       "      dtype='object')"
      ]
     },
     "execution_count": 21,
     "metadata": {},
     "output_type": "execute_result"
    }
   ],
   "source": [
    "df1.columns\n"
   ]
  },
  {
   "cell_type": "code",
   "execution_count": 24,
   "id": "15b2c955",
   "metadata": {},
   "outputs": [
    {
     "name": "stdout",
     "output_type": "stream",
     "text": [
      "<class 'pandas.core.frame.DataFrame'>\n",
      "RangeIndex: 2940 entries, 0 to 2939\n",
      "Data columns (total 39 columns):\n",
      " #   Column                  Non-Null Count  Dtype  \n",
      "---  ------                  --------------  -----  \n",
      " 0   gender                  2940 non-null   object \n",
      " 1   age                     2940 non-null   int64  \n",
      " 2   name                    2940 non-null   object \n",
      " 3   counts_pictures         2940 non-null   int64  \n",
      " 4   counts_profileVisits    2940 non-null   int64  \n",
      " 5   counts_kisses           2940 non-null   int64  \n",
      " 6   flirtInterests_chat     2940 non-null   bool   \n",
      " 7   flirtInterests_friends  2940 non-null   bool   \n",
      " 8   flirtInterests_date     2940 non-null   bool   \n",
      " 9   connectedToFacebook     2940 non-null   bool   \n",
      " 10  isVIP                   2940 non-null   bool   \n",
      " 11  isVerified              2940 non-null   bool   \n",
      " 12  lastOnline              2939 non-null   object \n",
      " 13  lastOnlineTs            2939 non-null   float64\n",
      " 14  lang_count              2940 non-null   int64  \n",
      " 15  lang_fr                 2940 non-null   bool   \n",
      " 16  lang_en                 2940 non-null   bool   \n",
      " 17  lang_de                 2940 non-null   bool   \n",
      " 18  lang_it                 2940 non-null   bool   \n",
      " 19  lang_es                 2940 non-null   bool   \n",
      " 20  lang_pt                 2940 non-null   bool   \n",
      " 21  city                    2730 non-null   object \n",
      " 22  locationCity            2930 non-null   object \n",
      " 23  locationCitySub         68 non-null     object \n",
      " 24  userInfo_visitDate      15 non-null     object \n",
      " 25  countDetails            2940 non-null   float64\n",
      " 26  crypt                   2940 non-null   bool   \n",
      " 27  flirtstar               2940 non-null   bool   \n",
      " 28  freshman                2940 non-null   bool   \n",
      " 29  hasBirthday             2940 non-null   bool   \n",
      " 30  highlighted             2940 non-null   bool   \n",
      " 31  distance                2940 non-null   float64\n",
      " 32  locked                  2940 non-null   bool   \n",
      " 33  mobile                  2940 non-null   bool   \n",
      " 34  online                  2940 non-null   bool   \n",
      " 35  whazzup                 1756 non-null   object \n",
      " 36  userId                  2940 non-null   object \n",
      " 37  pictureId               2875 non-null   object \n",
      " 38  isSystemProfile         2940 non-null   bool   \n",
      "dtypes: bool(21), float64(3), int64(5), object(10)\n",
      "memory usage: 473.9+ KB\n"
     ]
    }
   ],
   "source": [
    "df2.info()"
   ]
  },
  {
   "cell_type": "code",
   "execution_count": 20,
   "id": "1a6583f7",
   "metadata": {},
   "outputs": [
    {
     "data": {
      "text/plain": [
       "Index(['gender', 'age', 'name', 'counts_pictures', 'counts_profileVisits',\n",
       "       'counts_kisses', 'flirtInterests_chat', 'flirtInterests_friends',\n",
       "       'flirtInterests_date', 'connectedToFacebook', 'isVIP', 'isVerified',\n",
       "       'lastOnline', 'lastOnlineTs', 'lang_count', 'lang_fr', 'lang_en',\n",
       "       'lang_de', 'lang_it', 'lang_es', 'lang_pt', 'city', 'locationCity',\n",
       "       'locationCitySub', 'userInfo_visitDate', 'countDetails', 'crypt',\n",
       "       'flirtstar', 'freshman', 'hasBirthday', 'highlighted', 'distance',\n",
       "       'locked', 'mobile', 'online', 'whazzup', 'userId', 'pictureId',\n",
       "       'isSystemProfile'],\n",
       "      dtype='object')"
      ]
     },
     "execution_count": 20,
     "metadata": {},
     "output_type": "execute_result"
    }
   ],
   "source": [
    "df2.columns\n"
   ]
  },
  {
   "cell_type": "code",
   "execution_count": 25,
   "id": "da75153e",
   "metadata": {},
   "outputs": [
    {
     "data": {
      "text/plain": [
       "{'connectedToFacebook',\n",
       " 'countDetails',\n",
       " 'flirtstar',\n",
       " 'freshman',\n",
       " 'hasBirthday',\n",
       " 'highlighted',\n",
       " 'isVIP',\n",
       " 'isVerified',\n",
       " 'lastOnline',\n",
       " 'lastOnlineTs',\n",
       " 'locationCity',\n",
       " 'locationCitySub',\n",
       " 'locked',\n",
       " 'mobile',\n",
       " 'online',\n",
       " 'userInfo_visitDate'}"
      ]
     },
     "execution_count": 25,
     "metadata": {},
     "output_type": "execute_result"
    }
   ],
   "source": [
    "set(df2.columns) - set(df1.columns)"
   ]
  }
 ],
 "metadata": {
  "kernelspec": {
   "display_name": "ds",
   "language": "python",
   "name": "python3"
  },
  "language_info": {
   "codemirror_mode": {
    "name": "ipython",
    "version": 3
   },
   "file_extension": ".py",
   "mimetype": "text/x-python",
   "name": "python",
   "nbconvert_exporter": "python",
   "pygments_lexer": "ipython3",
   "version": "3.12.9"
  }
 },
 "nbformat": 4,
 "nbformat_minor": 5
}
